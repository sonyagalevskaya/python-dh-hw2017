{
 "cells": [
  {
   "cell_type": "code",
   "execution_count": 6,
   "metadata": {},
   "outputs": [
    {
     "name": "stdout",
     "output_type": "stream",
     "text": [
      "1:\n",
      "привет\n",
      "2:\n",
      "теаирп\n",
      "false\n",
      "true\n"
     ]
    }
   ],
   "source": [
    "str1 = input(\"1:\\n\")\n",
    "str2 = input(\"2:\\n\") \n",
    "#проверка строчек на одинаковую длину\n",
    "if len(str1) != len(str2) or len(str1) == 0:\n",
    "   print(\"false\")\n",
    "wordlength = len(str1)\n",
    "#проверка по символам\n",
    "for i in range(len(str1)):\n",
    "    if ord(str1[i]) != ord(str2[wordlength - i - 1]):\n",
    "        print(\"false\")\n",
    "print(\"true\")"
   ]
  },
  {
   "cell_type": "markdown",
   "metadata": {},
   "source": [
    "Это было задание 2, а сейчас второй вариант решения"
   ]
  },
  {
   "cell_type": "code",
   "execution_count": 10,
   "metadata": {},
   "outputs": [
    {
     "name": "stdout",
     "output_type": "stream",
     "text": [
      "напиши словоток\n",
      "введите число3\n",
      "no\n"
     ]
    }
   ],
   "source": [
    "# второй вариант решения, по количеству букв\n",
    "a = input(\"напиши слово\")\n",
    "b = a[ : :-1]\n",
    "с = int(input(\"введите число\"))\n",
    "if a==b:\n",
    "    print(\"yes\")\n",
    "else:\n",
    "    print(\"no\")\n"
   ]
  },
  {
   "cell_type": "code",
   "execution_count": null,
   "metadata": {},
   "outputs": [],
   "source": []
  }
 ],
 "metadata": {
  "kernelspec": {
   "display_name": "Python 3",
   "language": "python",
   "name": "python3"
  },
  "language_info": {
   "codemirror_mode": {
    "name": "ipython",
    "version": 3
   },
   "file_extension": ".py",
   "mimetype": "text/x-python",
   "name": "python",
   "nbconvert_exporter": "python",
   "pygments_lexer": "ipython3",
   "version": "3.6.4"
  }
 },
 "nbformat": 4,
 "nbformat_minor": 2
}
